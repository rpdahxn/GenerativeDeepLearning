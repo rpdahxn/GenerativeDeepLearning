{
  "nbformat": 4,
  "nbformat_minor": 0,
  "metadata": {
    "colab": {
      "name": "03_01_autoencoder_train.ipynb",
      "provenance": [],
      "authorship_tag": "ABX9TyNWsa2d/qzsSLOwY9DgK8Xa",
      "include_colab_link": true
    },
    "kernelspec": {
      "name": "python3",
      "display_name": "Python 3"
    },
    "language_info": {
      "name": "python"
    },
    "accelerator": "GPU"
  },
  "cells": [
    {
      "cell_type": "markdown",
      "metadata": {
        "id": "view-in-github",
        "colab_type": "text"
      },
      "source": [
        "<a href=\"https://colab.research.google.com/github/rpdahxn/GenerativeDeepLearning/blob/main/03_01_autoencoder_train.ipynb\" target=\"_parent\"><img src=\"https://colab.research.google.com/assets/colab-badge.svg\" alt=\"Open In Colab\"/></a>"
      ]
    },
    {
      "cell_type": "markdown",
      "source": [
        "오토인코더"
      ],
      "metadata": {
        "id": "uwAWoK7iUzQw"
      }
    },
    {
      "cell_type": "code",
      "execution_count": 1,
      "metadata": {
        "colab": {
          "base_uri": "https://localhost:8080/"
        },
        "id": "Pog6gSfbUdyA",
        "outputId": "d44d5246-f659-43d4-d548-14a720b2b846"
      },
      "outputs": [
        {
          "output_type": "stream",
          "name": "stdout",
          "text": [
            "Downloading data from https://storage.googleapis.com/tensorflow/tf-keras-datasets/mnist.npz\n",
            "11493376/11490434 [==============================] - 0s 0us/step\n",
            "11501568/11490434 [==============================] - 0s 0us/step\n",
            "(60000, 28, 28, 1)\n",
            "(60000, 28, 28, 1)\n"
          ]
        }
      ],
      "source": [
        "# 데이터 적재\n",
        "\n",
        "from keras.datasets import mnist\n",
        "\n",
        "(x_train, y_train), (x_test, y_test) = mnist.load_data()\n",
        "\n",
        "x_train = x_train.astype('float32') / 255.\n",
        "print(x_train.shape + (1,))\n",
        "x_train = x_train.reshape(x_train.shape + (1,))\n",
        "print(x_train.shape)\n",
        "x_test = x_test.astype('float32') / 255.\n",
        "x_test = x_test.reshape(x_test.shape + (1,))"
      ]
    },
    {
      "cell_type": "code",
      "source": [
        "# callbacks.py\n",
        "\n",
        "from keras.callbacks import Callback, LearningRateScheduler\n",
        "import numpy as np\n",
        "import matplotlib.pyplot as plt\n",
        "import os\n",
        "\n",
        "#### CALLBACKS\n",
        "class CustomCallback(Callback):\n",
        "    \n",
        "    def __init__(self, run_folder, print_every_n_batches, initial_epoch, vae):\n",
        "        self.epoch = initial_epoch\n",
        "        self.run_folder = run_folder\n",
        "        self.print_every_n_batches = print_every_n_batches\n",
        "        self.vae = vae\n",
        "\n",
        "    def on_batch_end(self, batch, logs={}):  \n",
        "        if batch % self.print_every_n_batches == 0:\n",
        "            z_new = np.random.normal(size = (1,self.vae.z_dim))\n",
        "            reconst = self.vae.decoder.predict(np.array(z_new))[0].squeeze()\n",
        "\n",
        "            filepath = os.path.join(self.run_folder, 'images', 'img_' + str(self.epoch).zfill(3) + '_' + str(batch) + '.jpg')\n",
        "            if len(reconst.shape) == 2:\n",
        "                plt.imsave(filepath, reconst, cmap='gray_r')\n",
        "            else:\n",
        "                plt.imsave(filepath, reconst)\n",
        "\n",
        "    def on_epoch_begin(self, epoch, logs={}):\n",
        "        self.epoch += 1\n",
        "\n",
        "\n",
        "\n",
        "def step_decay_schedule(initial_lr, decay_factor=0.5, step_size=1):\n",
        "    '''\n",
        "    Wrapper function to create a LearningRateScheduler with step decay schedule.\n",
        "    '''\n",
        "    def schedule(epoch):\n",
        "        new_lr = initial_lr * (decay_factor ** np.floor(epoch/step_size))\n",
        "        \n",
        "        return new_lr\n",
        "\n",
        "    return LearningRateScheduler(schedule)"
      ],
      "metadata": {
        "id": "ZL0VoG_WWSTO"
      },
      "execution_count": 2,
      "outputs": []
    },
    {
      "cell_type": "code",
      "source": [
        "# AE.py\n",
        "\n",
        "from keras.layers import Input, Conv2D, Flatten, Dense, Conv2DTranspose, Reshape, Lambda, Activation, BatchNormalization, LeakyReLU, Dropout\n",
        "from keras.models import Model\n",
        "from keras import backend as K\n",
        "from tensorflow.keras.optimizers import Adam\n",
        "from keras.callbacks import ModelCheckpoint \n",
        "from tensorflow.keras.utils import plot_model\n",
        "\n",
        "\n",
        "import numpy as np\n",
        "import json\n",
        "import os\n",
        "import pickle\n",
        "\n",
        "\n",
        "class Autoencoder():\n",
        "    def __init__(self\n",
        "        , input_dim\n",
        "        , encoder_conv_filters\n",
        "        , encoder_conv_kernel_size\n",
        "        , encoder_conv_strides\n",
        "        , decoder_conv_t_filters\n",
        "        , decoder_conv_t_kernel_size\n",
        "        , decoder_conv_t_strides\n",
        "        , z_dim\n",
        "        , use_batch_norm = False\n",
        "        , use_dropout = False\n",
        "        ):\n",
        "\n",
        "        self.name = 'autoencoder'\n",
        "\n",
        "        self.input_dim = input_dim\n",
        "        self.encoder_conv_filters = encoder_conv_filters\n",
        "        self.encoder_conv_kernel_size = encoder_conv_kernel_size\n",
        "        self.encoder_conv_strides = encoder_conv_strides\n",
        "        self.decoder_conv_t_filters = decoder_conv_t_filters\n",
        "        self.decoder_conv_t_kernel_size = decoder_conv_t_kernel_size\n",
        "        self.decoder_conv_t_strides = decoder_conv_t_strides\n",
        "        self.z_dim = z_dim\n",
        "\n",
        "        self.use_batch_norm = use_batch_norm\n",
        "        self.use_dropout = use_dropout\n",
        "\n",
        "        self.n_layers_encoder = len(encoder_conv_filters)\n",
        "        self.n_layers_decoder = len(decoder_conv_t_filters)\n",
        "\n",
        "        self._build()\n",
        "\n",
        "    def _build(self):\n",
        "\n",
        "        ### THE ENCODER\n",
        "        encoder_input = Input(shape=self.input_dim, name='encoder_input')\n",
        "\n",
        "        x = encoder_input\n",
        "\n",
        "        for i in range(self.n_layers_encoder):\n",
        "            conv_layer = Conv2D(\n",
        "                filters = self.encoder_conv_filters[i]\n",
        "                , kernel_size = self.encoder_conv_kernel_size[i]\n",
        "                , strides = self.encoder_conv_strides[i]\n",
        "                , padding = 'same'\n",
        "                , name = 'encoder_conv_' + str(i)\n",
        "                )\n",
        "\n",
        "            x = conv_layer(x)\n",
        "\n",
        "            x = LeakyReLU()(x)\n",
        "\n",
        "            if self.use_batch_norm:\n",
        "                x = BatchNormalization()(x)\n",
        "\n",
        "            if self.use_dropout:\n",
        "                x = Dropout(rate = 0.25)(x)\n",
        "\n",
        "        shape_before_flattening = K.int_shape(x)[1:]\n",
        "\n",
        "        x = Flatten()(x)\n",
        "        encoder_output= Dense(self.z_dim, name='encoder_output')(x)\n",
        "\n",
        "        self.encoder = Model(encoder_input, encoder_output)\n",
        "\n",
        "\n",
        "        ### THE DECODER\n",
        "        decoder_input = Input(shape=(self.z_dim,), name='decoder_input')\n",
        "\n",
        "        x = Dense(np.prod(shape_before_flattening))(decoder_input)\n",
        "        x = Reshape(shape_before_flattening)(x)\n",
        "\n",
        "        for i in range(self.n_layers_decoder):\n",
        "            conv_t_layer = Conv2DTranspose(\n",
        "                filters = self.decoder_conv_t_filters[i]\n",
        "                , kernel_size = self.decoder_conv_t_kernel_size[i]\n",
        "                , strides = self.decoder_conv_t_strides[i]\n",
        "                , padding = 'same'\n",
        "                , name = 'decoder_conv_t_' + str(i)\n",
        "                )\n",
        "\n",
        "            x = conv_t_layer(x)\n",
        "\n",
        "            if i < self.n_layers_decoder - 1:\n",
        "                x = LeakyReLU()(x)\n",
        "                \n",
        "                if self.use_batch_norm:\n",
        "                    x = BatchNormalization()(x)\n",
        "                \n",
        "                if self.use_dropout:\n",
        "                    x = Dropout(rate = 0.25)(x)\n",
        "            else:\n",
        "                x = Activation('sigmoid')(x)\n",
        "\n",
        "        decoder_output = x\n",
        "\n",
        "        self.decoder = Model(decoder_input, decoder_output)\n",
        "\n",
        "        ### THE FULL AUTOENCODER\n",
        "        model_input = encoder_input\n",
        "        model_output = self.decoder(encoder_output)\n",
        "\n",
        "        self.model = Model(model_input, model_output)\n",
        "\n",
        "\n",
        "    def compile(self, learning_rate):\n",
        "        self.learning_rate = learning_rate\n",
        "\n",
        "        optimizer = Adam(lr=learning_rate)\n",
        "\n",
        "        def r_loss(y_true, y_pred):\n",
        "            return K.mean(K.square(y_true - y_pred), axis = [1,2,3])\n",
        "\n",
        "        self.model.compile(optimizer=optimizer, loss = r_loss)\n",
        "\n",
        "    def save(self, folder):\n",
        "\n",
        "        if not os.path.exists(folder):\n",
        "            os.makedirs(folder)\n",
        "            os.makedirs(os.path.join(folder, 'viz'))\n",
        "            os.makedirs(os.path.join(folder, 'weights'))\n",
        "            os.makedirs(os.path.join(folder, 'images'))\n",
        "\n",
        "        with open(os.path.join(folder, 'params.pkl'), 'wb') as f:\n",
        "            pickle.dump([\n",
        "                self.input_dim\n",
        "                , self.encoder_conv_filters\n",
        "                , self.encoder_conv_kernel_size\n",
        "                , self.encoder_conv_strides\n",
        "                , self.decoder_conv_t_filters\n",
        "                , self.decoder_conv_t_kernel_size\n",
        "                , self.decoder_conv_t_strides\n",
        "                , self.z_dim\n",
        "                , self.use_batch_norm\n",
        "                , self.use_dropout\n",
        "                ], f)\n",
        "\n",
        "        self.plot_model(folder)\n",
        "\n",
        "        \n",
        "\n",
        "\n",
        "    def load_weights(self, filepath):\n",
        "        self.model.load_weights(filepath)\n",
        "\n",
        "    \n",
        "    def train(self, x_train, batch_size, epochs, run_folder, print_every_n_batches = 100, initial_epoch = 0, lr_decay = 1):\n",
        "\n",
        "        custom_callback = CustomCallback(run_folder, print_every_n_batches, initial_epoch, self)\n",
        "        lr_sched = step_decay_schedule(initial_lr=self.learning_rate, decay_factor=lr_decay, step_size=1)\n",
        "\n",
        "        checkpoint2 = ModelCheckpoint(os.path.join(run_folder, 'weights/weights.h5'), save_weights_only = True, verbose=1)\n",
        "\n",
        "        callbacks_list = [checkpoint2, custom_callback, lr_sched]\n",
        "\n",
        "        self.model.fit(     \n",
        "            x_train\n",
        "            , x_train\n",
        "            , batch_size = batch_size\n",
        "            , shuffle = True\n",
        "            , epochs = epochs\n",
        "            , initial_epoch = initial_epoch\n",
        "            , callbacks = callbacks_list\n",
        "        )\n",
        "\n",
        "    def plot_model(self, run_folder):\n",
        "        plot_model(self.model, to_file=os.path.join(run_folder ,'viz/model.png'), show_shapes = True, show_layer_names = True)\n",
        "        plot_model(self.encoder, to_file=os.path.join(run_folder ,'viz/encoder.png'), show_shapes = True, show_layer_names = True)\n",
        "        plot_model(self.decoder, to_file=os.path.join(run_folder ,'viz/decoder.png'), show_shapes = True, show_layer_names = True)"
      ],
      "metadata": {
        "id": "wHEQMkECVieI"
      },
      "execution_count": 6,
      "outputs": []
    },
    {
      "cell_type": "markdown",
      "source": [
        "신경망 구조 정의"
      ],
      "metadata": {
        "id": "P_lu7I-lWpXk"
      }
    },
    {
      "cell_type": "code",
      "source": [
        "AE = Autoencoder(\n",
        "    input_dim = (28,28,1)\n",
        "    , encoder_conv_filters = [32,64,64, 64]\n",
        "    , encoder_conv_kernel_size = [3,3,3,3]\n",
        "    , encoder_conv_strides = [1,2,2,1]\n",
        "    , decoder_conv_t_filters = [64,64,32,1]\n",
        "    , decoder_conv_t_kernel_size = [3,3,3,3]\n",
        "    , decoder_conv_t_strides = [1,2,2,1]\n",
        "    , z_dim = 2\n",
        ")"
      ],
      "metadata": {
        "id": "md-VPMFlWcXU"
      },
      "execution_count": 7,
      "outputs": []
    },
    {
      "cell_type": "code",
      "source": [
        "AE.encoder.summary()"
      ],
      "metadata": {
        "colab": {
          "base_uri": "https://localhost:8080/"
        },
        "id": "2JSPHJZ5Wwx9",
        "outputId": "4de24c07-d0a4-43c1-b0f4-547352ebcd85"
      },
      "execution_count": 8,
      "outputs": [
        {
          "output_type": "stream",
          "name": "stdout",
          "text": [
            "Model: \"model\"\n",
            "_________________________________________________________________\n",
            " Layer (type)                Output Shape              Param #   \n",
            "=================================================================\n",
            " encoder_input (InputLayer)  [(None, 28, 28, 1)]       0         \n",
            "                                                                 \n",
            " encoder_conv_0 (Conv2D)     (None, 28, 28, 32)        320       \n",
            "                                                                 \n",
            " leaky_re_lu (LeakyReLU)     (None, 28, 28, 32)        0         \n",
            "                                                                 \n",
            " encoder_conv_1 (Conv2D)     (None, 14, 14, 64)        18496     \n",
            "                                                                 \n",
            " leaky_re_lu_1 (LeakyReLU)   (None, 14, 14, 64)        0         \n",
            "                                                                 \n",
            " encoder_conv_2 (Conv2D)     (None, 7, 7, 64)          36928     \n",
            "                                                                 \n",
            " leaky_re_lu_2 (LeakyReLU)   (None, 7, 7, 64)          0         \n",
            "                                                                 \n",
            " encoder_conv_3 (Conv2D)     (None, 7, 7, 64)          36928     \n",
            "                                                                 \n",
            " leaky_re_lu_3 (LeakyReLU)   (None, 7, 7, 64)          0         \n",
            "                                                                 \n",
            " flatten (Flatten)           (None, 3136)              0         \n",
            "                                                                 \n",
            " encoder_output (Dense)      (None, 2)                 6274      \n",
            "                                                                 \n",
            "=================================================================\n",
            "Total params: 98,946\n",
            "Trainable params: 98,946\n",
            "Non-trainable params: 0\n",
            "_________________________________________________________________\n"
          ]
        }
      ]
    },
    {
      "cell_type": "code",
      "source": [
        "AE.decoder.summary()"
      ],
      "metadata": {
        "colab": {
          "base_uri": "https://localhost:8080/"
        },
        "id": "0jG40iCvWy65",
        "outputId": "18e1590f-4798-42de-8b9d-7adf5f24057b"
      },
      "execution_count": 9,
      "outputs": [
        {
          "output_type": "stream",
          "name": "stdout",
          "text": [
            "Model: \"model_1\"\n",
            "_________________________________________________________________\n",
            " Layer (type)                Output Shape              Param #   \n",
            "=================================================================\n",
            " decoder_input (InputLayer)  [(None, 2)]               0         \n",
            "                                                                 \n",
            " dense (Dense)               (None, 3136)              9408      \n",
            "                                                                 \n",
            " reshape (Reshape)           (None, 7, 7, 64)          0         \n",
            "                                                                 \n",
            " decoder_conv_t_0 (Conv2DTra  (None, 7, 7, 64)         36928     \n",
            " nspose)                                                         \n",
            "                                                                 \n",
            " leaky_re_lu_4 (LeakyReLU)   (None, 7, 7, 64)          0         \n",
            "                                                                 \n",
            " decoder_conv_t_1 (Conv2DTra  (None, 14, 14, 64)       36928     \n",
            " nspose)                                                         \n",
            "                                                                 \n",
            " leaky_re_lu_5 (LeakyReLU)   (None, 14, 14, 64)        0         \n",
            "                                                                 \n",
            " decoder_conv_t_2 (Conv2DTra  (None, 28, 28, 32)       18464     \n",
            " nspose)                                                         \n",
            "                                                                 \n",
            " leaky_re_lu_6 (LeakyReLU)   (None, 28, 28, 32)        0         \n",
            "                                                                 \n",
            " decoder_conv_t_3 (Conv2DTra  (None, 28, 28, 1)        289       \n",
            " nspose)                                                         \n",
            "                                                                 \n",
            " activation (Activation)     (None, 28, 28, 1)         0         \n",
            "                                                                 \n",
            "=================================================================\n",
            "Total params: 102,017\n",
            "Trainable params: 102,017\n",
            "Non-trainable params: 0\n",
            "_________________________________________________________________\n"
          ]
        }
      ]
    },
    {
      "cell_type": "markdown",
      "source": [
        "오토인코더 훈련"
      ],
      "metadata": {
        "id": "TqKSkPC1W2X5"
      }
    },
    {
      "cell_type": "code",
      "source": [
        "LEARNING_RATE = 0.0005\n",
        "BATCH_SIZE = 32\n",
        "INITIAL_EPOCH = 0"
      ],
      "metadata": {
        "id": "PcekDju8W0iM"
      },
      "execution_count": 10,
      "outputs": []
    },
    {
      "cell_type": "code",
      "source": [
        "AE.compile(LEARNING_RATE)"
      ],
      "metadata": {
        "colab": {
          "base_uri": "https://localhost:8080/"
        },
        "id": "Ee9le9t9W4wl",
        "outputId": "7c493537-524b-4539-9615-5e345900f39d"
      },
      "execution_count": 11,
      "outputs": [
        {
          "output_type": "stream",
          "name": "stderr",
          "text": [
            "/usr/local/lib/python3.7/dist-packages/keras/optimizer_v2/adam.py:105: UserWarning: The `lr` argument is deprecated, use `learning_rate` instead.\n",
            "  super(Adam, self).__init__(name, **kwargs)\n"
          ]
        }
      ]
    }
  ]
}